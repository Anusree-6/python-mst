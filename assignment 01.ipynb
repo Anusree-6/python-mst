{
 "cells": [
  {
   "cell_type": "markdown",
   "id": "6b75d9a2",
   "metadata": {},
   "source": [
    "# number of occurrences of item 50"
   ]
  },
  {
   "cell_type": "code",
   "execution_count": 1,
   "id": "7188815e",
   "metadata": {},
   "outputs": [
    {
     "name": "stdout",
     "output_type": "stream",
     "text": [
      "3\n"
     ]
    }
   ],
   "source": [
    "tuple1 = (50, 10, 60, 70, 50,83,567,50,81)\n",
    "print(tuple1.count(50))"
   ]
  },
  {
   "cell_type": "markdown",
   "id": "701dc047",
   "metadata": {},
   "source": [
    "# to copy elements from the tuple into a new tuple"
   ]
  },
  {
   "cell_type": "code",
   "execution_count": 14,
   "id": "ce15c01f",
   "metadata": {
    "collapsed": true
   },
   "outputs": [
    {
     "name": "stdout",
     "output_type": "stream",
     "text": [
      "(43, 54)\n"
     ]
    }
   ],
   "source": [
    "tuple1 = (10, 20, 43, 54, 56, 68)\n",
    "tuple2 = tuple1[2:-2]\n",
    "print(tuple2)"
   ]
  },
  {
   "cell_type": "markdown",
   "id": "b2cbb34c",
   "metadata": {},
   "source": [
    "# Python program to change Brad’s salary to 8500 "
   ]
  },
  {
   "cell_type": "code",
   "execution_count": 15,
   "id": "85d82b3b",
   "metadata": {},
   "outputs": [
    {
     "name": "stdout",
     "output_type": "stream",
     "text": [
      "{'emp1': {'name': 'Jhon', 'salary': 7500}, 'emp2': {'name': 'Emma', 'salary': 8000}, 'emp3': {'name': 'Brad', 'salary': 8500}}\n"
     ]
    }
   ],
   "source": [
    "sample_dict = {\n",
    "    'emp1': {'name': 'Jhon', 'salary': 7500},\n",
    "    'emp2': {'name': 'Emma', 'salary': 8000},\n",
    "    'emp3': {'name': 'Brad', 'salary': 6500}\n",
    "}\n",
    "\n",
    "sample_dict['emp3']['salary'] = 8500\n",
    "print(sample_dict)"
   ]
  },
  {
   "cell_type": "markdown",
   "id": "80dafc95",
   "metadata": {},
   "source": [
    "# to rename a key city to a location"
   ]
  },
  {
   "cell_type": "code",
   "execution_count": 16,
   "id": "ba9c9c0e",
   "metadata": {},
   "outputs": [
    {
     "name": "stdout",
     "output_type": "stream",
     "text": [
      "{'name': 'John', 'age': 5, 'salary': 8000, 'location': 'New york'}\n"
     ]
    }
   ],
   "source": [
    "sample_dict = {\n",
    "    \"name\": \"John\",\n",
    "    \"age\": 5,\n",
    "    \"salary\": 8000,\n",
    "    \"city\": \"New york\"\n",
    "}\n",
    "\n",
    "sample_dict['location'] = sample_dict.pop('city')\n",
    "print(sample_dict)"
   ]
  },
  {
   "cell_type": "markdown",
   "id": "4fe97626",
   "metadata": {},
   "source": [
    "# insert a number to any position in a list"
   ]
  },
  {
   "cell_type": "code",
   "execution_count": 17,
   "id": "7bf362e2",
   "metadata": {},
   "outputs": [
    {
     "name": "stdout",
     "output_type": "stream",
     "text": [
      "[1, 2, 3, 4, 10, 5, 6, 7]\n"
     ]
    }
   ],
   "source": [
    "list1 = [ 1, 2, 3, 4, 5, 6, 7 ] \n",
    "  \n",
    "# insert 10 at 4th index \n",
    "list1.insert(4, 10) \n",
    "print(list1) "
   ]
  },
  {
   "cell_type": "markdown",
   "id": "33b4198d",
   "metadata": {},
   "source": [
    "# to accept the radius of a circle and display its area"
   ]
  },
  {
   "cell_type": "code",
   "execution_count": 18,
   "id": "b099e59c",
   "metadata": {},
   "outputs": [
    {
     "name": "stdout",
     "output_type": "stream",
     "text": [
      "Enter radius of the circle: 10\n",
      "Area of the circle is:  314.0\n"
     ]
    }
   ],
   "source": [
    "r=int(input(\"Enter radius of the circle: \"))\n",
    "print(\"Area of the circle is: \", 3.14*r*r)"
   ]
  },
  {
   "cell_type": "markdown",
   "id": "a79e9964",
   "metadata": {},
   "source": [
    "# to accept two numbers from the user and display its product"
   ]
  },
  {
   "cell_type": "code",
   "execution_count": 19,
   "id": "22da3bba",
   "metadata": {},
   "outputs": [
    {
     "name": "stdout",
     "output_type": "stream",
     "text": [
      "6\n"
     ]
    }
   ],
   "source": [
    "print(2*3)"
   ]
  },
  {
   "cell_type": "markdown",
   "id": "e77746fa",
   "metadata": {},
   "source": [
    "# to convert temperatures to and from Celsius Fahrenheit."
   ]
  },
  {
   "cell_type": "code",
   "execution_count": 20,
   "id": "557b8655",
   "metadata": {},
   "outputs": [
    {
     "name": "stdout",
     "output_type": "stream",
     "text": [
      "Enter temperature in celsius: 56\n",
      "56.00 Celsius is: 132.80 Fahrenheit\n"
     ]
    }
   ],
   "source": [
    "celsius = float(input(\"Enter temperature in celsius: \"))\n",
    "fahrenheit = (celsius * 9/5) + 32\n",
    "print('%.2f Celsius is: %0.2f Fahrenheit' %(celsius, fahrenheit))"
   ]
  },
  {
   "cell_type": "code",
   "execution_count": 21,
   "id": "9f8afec0",
   "metadata": {},
   "outputs": [
    {
     "name": "stdout",
     "output_type": "stream",
     "text": [
      "Enter temperature in fahrenheit: 140\n",
      "140.00 Fahrenheit is: 60.00 Celsius\n"
     ]
    }
   ],
   "source": [
    "fahrenheit = float(input(\"Enter temperature in fahrenheit: \"))\n",
    "celsius = (fahrenheit - 32) * 5/9\n",
    "print('%.2f Fahrenheit is: %0.2f Celsius' %(fahrenheit, celsius))"
   ]
  },
  {
   "cell_type": "code",
   "execution_count": null,
   "id": "6649ff7a",
   "metadata": {},
   "outputs": [],
   "source": []
  }
 ],
 "metadata": {
  "kernelspec": {
   "display_name": "Python 3 (ipykernel)",
   "language": "python",
   "name": "python3"
  },
  "language_info": {
   "codemirror_mode": {
    "name": "ipython",
    "version": 3
   },
   "file_extension": ".py",
   "mimetype": "text/x-python",
   "name": "python",
   "nbconvert_exporter": "python",
   "pygments_lexer": "ipython3",
   "version": "3.9.13"
  }
 },
 "nbformat": 4,
 "nbformat_minor": 5
}
